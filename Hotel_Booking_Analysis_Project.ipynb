{
  "nbformat": 4,
  "nbformat_minor": 0,
  "metadata": {
    "colab": {
      "private_outputs": true,
      "provenance": [],
      "collapsed_sections": [
        "beRrZCGUAJYm",
        "gIfDvo9L0UH2"
      ],
      "include_colab_link": true
    },
    "kernelspec": {
      "name": "python3",
      "display_name": "Python 3"
    },
    "language_info": {
      "name": "python"
    }
  },
  "cells": [
    {
      "cell_type": "markdown",
      "metadata": {
        "id": "view-in-github",
        "colab_type": "text"
      },
      "source": [
        "<a href=\"https://colab.research.google.com/github/KumarMhaske/EDA_Hotel_Bookings_Data_Analysis/blob/master/Hotel_Booking_Analysis_Project.ipynb\" target=\"_parent\"><img src=\"https://colab.research.google.com/assets/colab-badge.svg\" alt=\"Open In Colab\"/></a>"
      ]
    },
    {
      "cell_type": "markdown",
      "source": [
        "# **Project Name**    -  **Hotel Booking Analysis**\n",
        "\n"
      ],
      "metadata": {
        "id": "vncDsAP0Gaoa"
      }
    },
    {
      "cell_type": "markdown",
      "source": [
        "##### **Project Type**    - EDA\n",
        "##### **Contribution**    - Individual\n"
      ],
      "metadata": {
        "id": "beRrZCGUAJYm"
      }
    },
    {
      "cell_type": "markdown",
      "source": [
        "# **Problem Statement**\n"
      ],
      "metadata": {
        "id": "yQaldy8SH6Dl"
      }
    },
    {
      "cell_type": "markdown",
      "source": [
        "**BUSINESS PROBLEM OVERVIEW**\n",
        "\n",
        "Have you ever pondered the ideal season of the year to reserve a hotel room? Or the ideal duration of stay to obtain the most affordable daily rate? What to do if you wanted to forecast whether a hotel will unreasonably receive a lot of unique requests? his lodging You can better investigate those questions by using a dataset! This data collection comprises booking information for a resort hotel and a city hotel, as well as information about the date the reservation was made.\n",
        "duration of stay. among other variables, the number of adults, kids, and/or babies, and the quantity of parking places. The deta no longer contains any information that might be used to individually identify you. Investigate and evaluate the data to find crucial elements.\n",
        "\n",
        "\n",
        "\n"
      ],
      "metadata": {
        "id": "DpeJGUA3kjGy"
      }
    },
    {
      "cell_type": "markdown",
      "source": [
        "#### **Define Your Business Objective?** "
      ],
      "metadata": {
        "id": "PH-0ReGfmX4f"
      }
    },
    {
      "cell_type": "markdown",
      "source": [
        "***To find best time of year to book a hotel room***"
      ],
      "metadata": {
        "id": "PhDvGCAqmjP1"
      }
    },
    {
      "cell_type": "markdown",
      "source": [
        "# **General Guidelines** : -  "
      ],
      "metadata": {
        "id": "mDgbUHAGgjLW"
      }
    },
    {
      "cell_type": "markdown",
      "source": [
        "1.   Well-structured, formatted, and commented code is required. \n",
        "2.   Exception Handling, Production Grade Code & Deployment Ready Code will be a plus. Those students will be awarded some additional credits. \n",
        "     \n",
        "     The additional credits will have advantages over other students during Star Student selection.\n",
        "       \n",
        "             [ Note: - Deployment Ready Code is defined as, the whole .ipynb notebook should be executable in one go\n",
        "                       without a single error logged. ]\n",
        "\n",
        "3.   Each and every logic should have proper comments.\n",
        "4. You may add as many number of charts you want. Make Sure for each and every chart the following format should be answered.\n",
        "        \n",
        "\n",
        "```\n",
        "# Chart visualization code\n",
        "```\n",
        "            \n",
        "\n",
        "*   Why did you pick the specific chart?\n",
        "*   What is/are the insight(s) found from the chart?\n",
        "* Will the gained insights help creating a positive business impact? \n",
        "Are there any insights that lead to negative growth? Justify with specific reason.\n",
        "\n",
        "\n",
        "5. You have to create at least 20 logical & meaningful charts having important insights.\n",
        "\n",
        "[ Hints : - Do the Vizualization in  a structured way while following \"UBM\" Rule. \n",
        "\n",
        "U - Univariate Analysis,\n",
        "\n",
        "B - Bivariate Analysis (Numerical - Categorical, Numerical - Numerical, Categorical - Categorical)\n",
        "\n",
        "M - Multivariate Analysis\n",
        " ]\n",
        "\n",
        "\n",
        "\n",
        "\n",
        "\n"
      ],
      "metadata": {
        "id": "ZrxVaUj-hHfC"
      }
    },
    {
      "cell_type": "markdown",
      "source": [
        "# ***Let's Begin !***"
      ],
      "metadata": {
        "id": "O_i_v8NEhb9l"
      }
    },
    {
      "cell_type": "markdown",
      "source": [
        "## ***1. Know Your Data***\n",
        "This dataset contains 119390 observations for a City Hotel and a Resort Hotel. Each observation represents a hotel\n",
        "Booking between the 1st of July 2015 and 31st of August 2017, including booking that effectively arrived and booking that were canceled.\n",
        "Since this is hotel real data, all data elements pertaining hotel or costumer identification were deleted.\n",
        "\n"
      ],
      "metadata": {
        "id": "HhfV-JJviCcP"
      }
    },
    {
      "cell_type": "markdown",
      "source": [
        "### Import Libraries"
      ],
      "metadata": {
        "id": "Y3lxredqlCYt"
      }
    },
    {
      "cell_type": "code",
      "source": [
        "# Import Libraries\n",
        "import numpy as np\n",
        "import pandas as pd\n",
        "import seaborn as sns\n",
        "import folium\n",
        "import plotly.express as px\n",
        "import matplotlib.pyplot as plt\n",
        "%matplotlib inline"
      ],
      "metadata": {
        "id": "M8Vqi-pPk-HR"
      },
      "execution_count": null,
      "outputs": []
    },
    {
      "cell_type": "markdown",
      "source": [
        "### Reading dataset from CSV file\n"
      ],
      "metadata": {
        "id": "3RnN4peoiCZX"
      }
    },
    {
      "cell_type": "code",
      "source": [
        "# Importing the dataset\n",
        "from google.colab import drive \n",
        "drive.mount('/content/drive')\n",
        "\n",
        "\n",
        "#df=pd.read_csv('C:\\Users\\admin\\Desktop\\templates\\EDA Project\\Hotel_Bookings.csv')"
      ],
      "metadata": {
        "id": "CEhiayUv1809"
      },
      "execution_count": null,
      "outputs": []
    },
    {
      "cell_type": "code",
      "source": [
        "path = \"/content/drive/MyDrive/Capstone Project/Hotel Bookings.csv\"\n",
        "df=pd.read_csv(path)\n",
        "df.describe"
      ],
      "metadata": {
        "id": "VHw4dQG77OvE"
      },
      "execution_count": null,
      "outputs": []
    },
    {
      "cell_type": "markdown",
      "source": [
        "### Dataset information"
      ],
      "metadata": {
        "id": "x71ZqKXriCWQ"
      }
    },
    {
      "cell_type": "code",
      "source": [
        "df.info()"
      ],
      "metadata": {
        "id": "LWNFOSvLl09H"
      },
      "execution_count": null,
      "outputs": []
    },
    {
      "cell_type": "markdown",
      "source": [
        "### Dataset Rows & Columns count"
      ],
      "metadata": {
        "id": "7hBIi_osiCS2"
      }
    },
    {
      "cell_type": "code",
      "source": [
        "# Dataset Rows & Columns \n",
        "df.shape"
      ],
      "metadata": {
        "id": "Kllu7SJgmLij"
      },
      "execution_count": null,
      "outputs": []
    },
    {
      "cell_type": "code",
      "source": [
        "pd.DataFrame([df.shape],columns=['number_of_rows','number_of_columns'],index=['#'])"
      ],
      "metadata": {
        "id": "hBM1mfif9wSr"
      },
      "execution_count": null,
      "outputs": []
    },
    {
      "cell_type": "markdown",
      "source": [
        "#### Duplicate Values"
      ],
      "metadata": {
        "id": "35m5QtbWiB9F"
      }
    },
    {
      "cell_type": "code",
      "source": [
        "# Dataset Duplicate Value Count\n",
        "len(df[df.duplicated()])"
      ],
      "metadata": {
        "id": "1sLdpKYkmox0"
      },
      "execution_count": null,
      "outputs": []
    },
    {
      "cell_type": "markdown",
      "source": [
        "Check out the missing data"
      ],
      "metadata": {
        "id": "bwl5fmp_-SBP"
      }
    },
    {
      "cell_type": "code",
      "source": [
        "pd.DataFrame([(df.isnull().values.any(),df.isnull().sum().idxmax(),max(df.isnull().sum()))],columns=['missing_data_existance','column_with_maximum_missing_data','number_of_missing_data'],index=['#'])"
      ],
      "metadata": {
        "id": "hxu91Q2C-Ybi"
      },
      "execution_count": null,
      "outputs": []
    },
    {
      "cell_type": "markdown",
      "source": [
        "Drop \" company \" column from DataFrame"
      ],
      "metadata": {
        "id": "-AbprbeE-kHi"
      }
    },
    {
      "cell_type": "code",
      "source": [
        "df.drop('company',axis=1).columns.tolist()"
      ],
      "metadata": {
        "id": "fP_ZaUFp-lSp"
      },
      "execution_count": null,
      "outputs": []
    },
    {
      "cell_type": "markdown",
      "source": [
        "### What did you know about your dataset?"
      ],
      "metadata": {
        "id": "H0kj-8xxnORC"
      }
    },
    {
      "cell_type": "markdown",
      "source": [
        "This dataset contains 119390 observations for a City Hotel and a Resort Hotel. Each observation represents a hotel Booking between the 1st of July 2015 and 31st of August 2017, including booking that effectively arrived and booking that were canceled. Since this is hotel real data, all data elements pertaining hotel or costumer identification were deleted. Four Columns, 'name', 'email', 'phone number' and 'credit_card' have been artificially created and added to the dataset."
      ],
      "metadata": {
        "id": "gfoNAAC-nUe_"
      }
    },
    {
      "cell_type": "markdown",
      "source": [
        "## ***2. Understanding Your Variables***"
      ],
      "metadata": {
        "id": "nA9Y7ga8ng1Z"
      }
    },
    {
      "cell_type": "code",
      "source": [
        "# Dataset Columns\n",
        "df.columns"
      ],
      "metadata": {
        "id": "n87BaXA_42-R"
      },
      "execution_count": null,
      "outputs": []
    },
    {
      "cell_type": "code",
      "source": [
        "# Dataset Describe\n",
        "df.describe(include='all')"
      ],
      "metadata": {
        "id": "DnOaZdaE5Q5t"
      },
      "execution_count": null,
      "outputs": []
    },
    {
      "cell_type": "markdown",
      "source": [
        "### Check Unique Values for each variable."
      ],
      "metadata": {
        "id": "u3PMJOP6ngxN"
      }
    },
    {
      "cell_type": "code",
      "source": [
        "# Check Unique Values for each variable.\n",
        "for i in df.columns.tolist():\n",
        "  print(\"No. of unique values in \",i,\"is\",df[i].nunique(),\".\")"
      ],
      "metadata": {
        "id": "zms12Yq5n-jE"
      },
      "execution_count": null,
      "outputs": []
    },
    {
      "cell_type": "markdown",
      "source": [
        "## 3. ***Data Wrangling***"
      ],
      "metadata": {
        "id": "dauF4eBmngu3"
      }
    },
    {
      "cell_type": "markdown",
      "source": [
        "Which countries have the most passengers ?"
      ],
      "metadata": {
        "id": "d80T97YrC1yy"
      }
    },
    {
      "cell_type": "code",
      "source": [
        "df=pd.read_csv(path)\n",
        "df['total_passengers'] = df['adults'] + df['children'] + df['babies'] - df['is_canceled']\n",
        "df[['country','adults','children','babies','is_canceled','total_passengers']].groupby('country').sum().nlargest(5,'total_passengers').reset_index()"
      ],
      "metadata": {
        "id": "lagCqFfjOfOJ"
      },
      "execution_count": null,
      "outputs": []
    },
    {
      "cell_type": "markdown",
      "source": [
        "Missing Values/Null Values"
      ],
      "metadata": {
        "id": "xyQLY8jjOqOo"
      }
    },
    {
      "cell_type": "code",
      "source": [
        "# Missing Values/Null Values Count\n",
        "print(df.isnull().sum())"
      ],
      "metadata": {
        "id": "CVIAyZfDOwnX"
      },
      "execution_count": null,
      "outputs": []
    },
    {
      "cell_type": "markdown",
      "source": [
        "Visualizing the missing values ,\n",
        "Checking Null Value by plotting Heatmap"
      ],
      "metadata": {
        "id": "Bp77WsFBOz70"
      }
    },
    {
      "cell_type": "code",
      "source": [
        "# Visualizing the missing values\n",
        "# Checking Null Value by plotting Heatmap\n",
        "sns.heatmap(df.isnull(), cbar=False)"
      ],
      "metadata": {
        "id": "uQC21ffoPACP"
      },
      "execution_count": null,
      "outputs": []
    },
    {
      "cell_type": "markdown",
      "source": [
        "Find hotel who have the maximum ADR (Average Daily Rate)"
      ],
      "metadata": {
        "id": "_nE0xttpTiH4"
      }
    },
    {
      "cell_type": "code",
      "source": [
        "from operator import index\n",
        "pd.DataFrame([(df.hotel[df['adr'].idxmax()],df['adr'].max())],columns=['hotel','adr'],index=['max(ADR)'])"
      ],
      "metadata": {
        "id": "RhhPKBrMToI-"
      },
      "execution_count": null,
      "outputs": []
    },
    {
      "cell_type": "markdown",
      "source": [
        "Average of total ADRs"
      ],
      "metadata": {
        "id": "eKbgB-5Pywq-"
      }
    },
    {
      "cell_type": "code",
      "source": [
        "pd.DataFrame([(round(df['adr'].mean(),2))],columns=['average_of_total_adrs',] ,index=['mean (ADR)'])"
      ],
      "metadata": {
        "id": "5MhVFiG_yytP"
      },
      "execution_count": null,
      "outputs": []
    },
    {
      "cell_type": "markdown",
      "source": [
        "Define the average of number of nights stayed."
      ],
      "metadata": {
        "id": "Oj-mdrkVz1PL"
      }
    },
    {
      "cell_type": "code",
      "source": [
        "df['total_stays_in_nights'] = df['stays_in_week_nights'] + df['stays_in_weekend_nights']"
      ],
      "metadata": {
        "id": "xmtJZEaPz7g5"
      },
      "execution_count": null,
      "outputs": []
    },
    {
      "cell_type": "code",
      "source": [
        "df['total_stays_in_nights'].mean().round(2)"
      ],
      "metadata": {
        "id": "0BqScYtU0Avz"
      },
      "execution_count": null,
      "outputs": []
    },
    {
      "cell_type": "markdown",
      "source": [
        "Define the hotel and country of people who had 5 special requests"
      ],
      "metadata": {
        "id": "OW4X8I350H4-"
      }
    },
    {
      "cell_type": "code",
      "source": [
        "df[df['total_of_special_requests'] == 5][['hotel','country']].reset_index()"
      ],
      "metadata": {
        "id": "MEplELGs1FpQ"
      },
      "execution_count": null,
      "outputs": []
    },
    {
      "cell_type": "markdown",
      "source": [
        "Define the people country whom reserved a hotel with most number of babies and children"
      ],
      "metadata": {
        "id": "UZJR5gWi8db-"
      }
    },
    {
      "cell_type": "code",
      "source": [
        "df['total_babies_and_children'] = df['babies'] + df['children']\n",
        "df[['country','distribution_channel','deposit_type','reservation_status_date','hotel','total_babies_and_children']].sort_values('total_babies_and_children',ascending=False).head()"
      ],
      "metadata": {
        "id": "rYhBB3fw8mBj"
      },
      "execution_count": null,
      "outputs": []
    },
    {
      "cell_type": "markdown",
      "source": [
        "## ***4. Data Vizualization, Storytelling & Experimenting with charts : Understand the relationships between variables***"
      ],
      "metadata": {
        "id": "GF8Ens_Soomf"
      }
    },
    {
      "cell_type": "markdown",
      "source": [
        "**Exploratory Data Analysis**"
      ],
      "metadata": {
        "id": "QGASIEk1AbJM"
      }
    },
    {
      "cell_type": "code",
      "source": [
        "plt.figure(figsize=(6,4), dpi=150)\n",
        "sns.countplot(x='hotel', data=df)"
      ],
      "metadata": {
        "id": "mPpE1qVFAh-M"
      },
      "execution_count": null,
      "outputs": []
    },
    {
      "cell_type": "markdown",
      "source": [
        "1.Chart analysis : **City Hotel has the most visitors**"
      ],
      "metadata": {
        "id": "U9d9MZfnAoPB"
      }
    },
    {
      "cell_type": "code",
      "source": [
        "plt.figure(figsize=(6,4), dpi=150)\n",
        "sns.barplot(x='customer_type', y='total_stays_in_nights', data=df)"
      ],
      "metadata": {
        "id": "5D1Z5WUFA3RK"
      },
      "execution_count": null,
      "outputs": []
    },
    {
      "cell_type": "markdown",
      "source": [
        "2.Chart analysis : **Contract ' of Customer Types has the most stay duration.**"
      ],
      "metadata": {
        "id": "3xIE2rmPA8AF"
      }
    },
    {
      "cell_type": "code",
      "source": [
        "plt.figure(figsize=(12,4), dpi=200)\n",
        "sns.barplot(x='arrival_date_month', y='lead_time',hue='hotel' ,data=df)\n",
        "plt.legend(loc=(1.05, 1))"
      ],
      "metadata": {
        "id": "QfwAcz3EBKio"
      },
      "execution_count": null,
      "outputs": []
    },
    {
      "cell_type": "markdown",
      "source": [
        "3.Chart analysis : **in month of january and february lead time is low**"
      ],
      "metadata": {
        "id": "nRDNk--UCecV"
      }
    },
    {
      "cell_type": "markdown",
      "source": [
        "4.**Which agent makes most no. of bookings?**"
      ],
      "metadata": {
        "id": "sdL_6aZ5bL3J"
      }
    },
    {
      "cell_type": "code",
      "source": [
        "d1 = pd.DataFrame(df['agent'].value_counts()).reset_index().rename(columns = {'index':'agent','agent':'num_of_bookings'}).sort_values(by = 'num_of_bookings', ascending = False)\n",
        "d1.drop(d1[d1['agent'] == 0].index, inplace = True)            # 0 represents that booking is not made by an agent\n",
        "d1 = d1[:10]                                                   # Selecting top 10 performing agents\n",
        "plt.figure(figsize = (10,5))\n",
        "sns.barplot(x = 'agent', y = 'num_of_bookings', data = d1, order = d1.sort_values('num_of_bookings', ascending = False).agent)"
      ],
      "metadata": {
        "id": "1WGEWA3zbaj3"
      },
      "execution_count": null,
      "outputs": []
    },
    {
      "cell_type": "markdown",
      "source": [
        "Chart analysis : **Agent no. 9 has made most no. of bookings.**"
      ],
      "metadata": {
        "id": "XRCKLeeAbrYk"
      }
    },
    {
      "cell_type": "markdown",
      "source": [
        " 5.**Which room type is in most demand and which room type generatest highest adr?**"
      ],
      "metadata": {
        "id": "F6eFvHnHcF9N"
      }
    },
    {
      "cell_type": "code",
      "source": [
        "fig, axes = plt.subplots(1, 2, figsize=(18, 8))\n",
        "\n",
        "grp_by_room = df.groupby('assigned_room_type')\n",
        "d1['Num_of_bookings'] = grp_by_room.size()\n",
        "\n",
        "sns.countplot(ax = axes[0], x = df['assigned_room_type'])\n",
        "sns.boxplot(ax = axes[1], x = df['assigned_room_type'], y = df['adr'])\n",
        "plt.show()"
      ],
      "metadata": {
        "id": "HVxYl9Z3cYNg"
      },
      "execution_count": null,
      "outputs": []
    },
    {
      "cell_type": "markdown",
      "source": [
        "Chart analysis : **Most demanded room type is A, but better adr rooms are of type H, G and C also. Hotels should increase the no. of room types A and H to maximise revenue.**"
      ],
      "metadata": {
        "id": "S3EsweXKc1f1"
      }
    },
    {
      "cell_type": "markdown",
      "source": [
        "6.**From where the most guests are coming ?**"
      ],
      "metadata": {
        "id": "2VQSkI3OXxst"
      }
    },
    {
      "cell_type": "code",
      "source": [
        "country_wise_guests = df[df['is_canceled'] == 0]['country'].value_counts().reset_index()\n",
        "country_wise_guests.columns = ['country', 'No of guests']\n",
        "country_wise_guests"
      ],
      "metadata": {
        "id": "gIQd_AY6Y2X_"
      },
      "execution_count": null,
      "outputs": []
    },
    {
      "cell_type": "code",
      "source": [
        "basemap = folium.Map()\n",
        "guests_map = px.choropleth(country_wise_guests, locations = country_wise_guests['country'],color = country_wise_guests['No of guests'], hover_name = country_wise_guests['country'])\n",
        "guests_map.show()"
      ],
      "metadata": {
        "id": "DfYRAyciXwOJ"
      },
      "execution_count": null,
      "outputs": []
    },
    {
      "cell_type": "code",
      "source": [
        "grouped_by_country = df.groupby('country')\n",
        "d1 = pd.DataFrame(grouped_by_country.size()).reset_index().rename(columns = {0:'Count'}).sort_values('Count', ascending = False)[:10]\n",
        "sns.barplot(x = d1['country'], y  = d1['Count'])\n",
        "plt.show()"
      ],
      "metadata": {
        "id": "9Db-LhyJYDXA"
      },
      "execution_count": null,
      "outputs": []
    },
    {
      "cell_type": "markdown",
      "source": [
        "Chart Analysis :**The Most of the customers are from PRT, GBR,FRA and ESP Countries**"
      ],
      "metadata": {
        "id": "Rp6dIFlhaode"
      }
    },
    {
      "cell_type": "markdown",
      "source": [
        "**Q7. In which Months Most Bookings Are Made?**"
      ],
      "metadata": {
        "id": "z5A7Hmofy4Q0"
      }
    },
    {
      "cell_type": "code",
      "source": [
        "plt.figure(figsize=(12,4), dpi=200)\n",
        "sns.barplot(x='arrival_date_month', y='total_passengers',hue='hotel' ,data=df)\n",
        "plt.legend(loc=(1.05, 1))"
      ],
      "metadata": {
        "id": "rj9JhBu1yy42"
      },
      "execution_count": null,
      "outputs": []
    },
    {
      "cell_type": "markdown",
      "source": [
        "**Chart analysis :**\n",
        "In both hotels most bookings were made from July to August .\n",
        "In all months, the most passengers are for Resort Hotel ."
      ],
      "metadata": {
        "id": "P6q32aKUzwGv"
      }
    },
    {
      "cell_type": "markdown",
      "source": [
        "#### Chart - **Pie Chart on Dependant Variable i.e.,'City Hotel','Resort Hotel'**"
      ],
      "metadata": {
        "id": "0wOQAZs5pc--"
      }
    },
    {
      "cell_type": "code",
      "source": [
        "# Chart - 1 visualization code\n",
        "# Dependant Column Value Counts\n",
        "print(df.hotel.value_counts())\n",
        "print(\" \")\n",
        "# Dependant Variable Column Visualization\n",
        "df['hotel'].value_counts().plot(kind='pie',\n",
        "                              figsize=(15,6),\n",
        "                               autopct=\"%1.1f%%\",\n",
        "                               startangle=90,\n",
        "                               shadow=True,\n",
        "                               labels=['City Hotel(%)','Resort Hotel (%)'],\n",
        "                               colors=['skyblue','red'],\n",
        "                               explode=[0,0]\n",
        "                              )"
      ],
      "metadata": {
        "id": "7v_ESjsspbW7"
      },
      "execution_count": null,
      "outputs": []
    },
    {
      "cell_type": "markdown",
      "source": [
        "##### 1. Why did you pick the specific chart?"
      ],
      "metadata": {
        "id": "K5QZ13OEpz2H"
      }
    },
    {
      "cell_type": "markdown",
      "source": [
        "A pie chart expresses a part-to-whole relationship in your data. It's easy to explain the percentage comparison through area covered in a circle with different colors. Where differenet percentage comparison comes into action pie chart is used frequently. So, I used Pie chart and which helped me to get the percentage comparision of the dependant variable."
      ],
      "metadata": {
        "id": "XESiWehPqBRc"
      }
    },
    {
      "cell_type": "markdown",
      "source": [
        "##### 2. What is/are the insight(s) found from the chart?"
      ],
      "metadata": {
        "id": "lQ7QKXXCp7Bj"
      }
    },
    {
      "cell_type": "markdown",
      "source": [
        "From the above chart I got to know that, there are 66.4% city Hotels and 33.6% Resort Hotels.\n"
      ],
      "metadata": {
        "id": "C_j1G7yiqdRP"
      }
    },
    {
      "cell_type": "markdown",
      "source": [
        "## **5. Solution to Business Objective**"
      ],
      "metadata": {
        "id": "JcMwzZxoAimU"
      }
    },
    {
      "cell_type": "markdown",
      "source": [
        "#### What do you suggest the client to achieve Business Objective ? \n",
        "Explain Briefly."
      ],
      "metadata": {
        "id": "8G2x9gOozGDZ"
      }
    },
    {
      "cell_type": "markdown",
      "source": [
        "**Solution for Maximise revenue**\n",
        "\n",
        "*\tMost demanded room type is A, but better adr rooms are of type H, G and C also. Hotels should increase the no. of room types A and H to maximise revenue.\n",
        "\n",
        "\n"
      ],
      "metadata": {
        "id": "pASKb0qOza21"
      }
    },
    {
      "cell_type": "markdown",
      "source": [
        "# **Conclusion**"
      ],
      "metadata": {
        "id": "gCX9965dhzqZ"
      }
    },
    {
      "cell_type": "markdown",
      "source": [
        "\n",
        "\n",
        "*  There are 66.4% city Hotels and 33.6% Resort Hotels.\n",
        "*  In month of january and february lead time is low.\n",
        "*  Contract ' of Customer Types has the most stay duration.\n",
        "*  City Hotel has the most visitors.\n",
        "*  The people from PRT country reserved a hotel with most number of babies and children.\n",
        "*   PRT Country has most customers.\n",
        "*  City Hotel has the maximum ADR (Average Daily Rate) which is 5400.0\n",
        "* Agent no. 9 has made most no. of bookings.\n",
        "* Most demanded room type is A, but better adr rooms are of type H, G and C also. Hotels should increase the no. of room types A and H to maximise revenue.\n",
        "* The Most of the customers are from PRT, GBR,FRA and ESP Countries\n",
        "* In both hotels most bookings were made from July to August . In all months, the most passengers are for Resort Hotel .\n",
        "\n",
        "\n",
        "\n",
        "\n"
      ],
      "metadata": {
        "id": "Fjb1IsQkh3yE"
      }
    },
    {
      "cell_type": "markdown",
      "source": [
        "### ***Hurrah! You have successfully completed your EDA Capstone Project !!!***"
      ],
      "metadata": {
        "id": "gIfDvo9L0UH2"
      }
    }
  ]
}